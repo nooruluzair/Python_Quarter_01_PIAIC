{
  "nbformat": 4,
  "nbformat_minor": 0,
  "metadata": {
    "colab": {
      "provenance": [],
      "authorship_tag": "ABX9TyNF2M7KMc1bywSOzlCt9Loz",
      "include_colab_link": true
    },
    "kernelspec": {
      "name": "python3",
      "display_name": "Python 3"
    },
    "language_info": {
      "name": "python"
    }
  },
  "cells": [
    {
      "cell_type": "markdown",
      "metadata": {
        "id": "view-in-github",
        "colab_type": "text"
      },
      "source": [
        "<a href=\"https://colab.research.google.com/github/nooruluzair/Pyton-with-Colab/blob/main/print_and_variable.ipynb\" target=\"_parent\"><img src=\"https://colab.research.google.com/assets/colab-badge.svg\" alt=\"Open In Colab\"/></a>"
      ]
    },
    {
      "cell_type": "code",
      "execution_count": 3,
      "metadata": {
        "colab": {
          "base_uri": "https://localhost:8080/"
        },
        "id": "eUgD0xH4HpTz",
        "outputId": "61e80861-26f0-4aa2-9aa6-c89efcea4f1e"
      },
      "outputs": [
        {
          "output_type": "stream",
          "name": "stdout",
          "text": [
            "Hello World\n",
            "This is my first code\n"
          ]
        }
      ],
      "source": [
        "#builtin function of python\n",
        "print(\"Hello World\")\n",
        "print(\"This is my first code\")"
      ]
    },
    {
      "cell_type": "code",
      "source": [
        "print(\"My favorite Food is Pizza\")"
      ],
      "metadata": {
        "colab": {
          "base_uri": "https://localhost:8080/"
        },
        "id": "FjEDdXL0II9D",
        "outputId": "74f0d8c0-8e1e-4004-8f4c-768686febf66"
      },
      "execution_count": 4,
      "outputs": [
        {
          "output_type": "stream",
          "name": "stdout",
          "text": [
            "My favorite Food is Pizza\n"
          ]
        }
      ]
    },
    {
      "cell_type": "code",
      "source": [
        "print(\"My favorite place is skardu\")"
      ],
      "metadata": {
        "colab": {
          "base_uri": "https://localhost:8080/"
        },
        "id": "pWYg87ARLSCF",
        "outputId": "ff9a271d-23d8-4638-d3a3-b7c050901232"
      },
      "execution_count": 5,
      "outputs": [
        {
          "output_type": "stream",
          "name": "stdout",
          "text": [
            "My favorite place is skardu\n"
          ]
        }
      ]
    },
    {
      "cell_type": "code",
      "source": [
        "del print\n",
        "import builtins\n",
        "print = builtins.print\n",
        "my_city = \"Karachi\"\n",
        "print(my_city)"
      ],
      "metadata": {
        "colab": {
          "base_uri": "https://localhost:8080/"
        },
        "id": "SyGi61_Gd1Ut",
        "outputId": "9e0a21e4-7e30-4cae-c8e8-4f676626c115"
      },
      "execution_count": 19,
      "outputs": [
        {
          "output_type": "stream",
          "name": "stdout",
          "text": [
            "Karachi\n"
          ]
        }
      ]
    },
    {
      "cell_type": "code",
      "source": [
        "my_city = \"islamabad\"\n",
        "my_college = \"dcet\"\n",
        "print(my_city)\n",
        "print(my_college)"
      ],
      "metadata": {
        "colab": {
          "base_uri": "https://localhost:8080/"
        },
        "id": "Hq6QqGOed6Dv",
        "outputId": "24c6b286-8ee7-4db9-849d-6584f12b6388"
      },
      "execution_count": 22,
      "outputs": [
        {
          "output_type": "stream",
          "name": "stdout",
          "text": [
            "islamabad\n",
            "dcet\n"
          ]
        }
      ]
    },
    {
      "cell_type": "code",
      "source": [
        "my_name = \"Noorulain\"\n",
        "print(my_name)"
      ],
      "metadata": {
        "colab": {
          "base_uri": "https://localhost:8080/"
        },
        "id": "4rYn_mPlwovB",
        "outputId": "d1a80f3e-23bd-4b6d-b0f2-260d3079746d"
      },
      "execution_count": 1,
      "outputs": [
        {
          "output_type": "stream",
          "name": "stdout",
          "text": [
            "Noorulain\n"
          ]
        }
      ]
    },
    {
      "cell_type": "code",
      "source": [
        "my_name = \"Noorulain Uzair\"\n",
        "print(my_name)"
      ],
      "metadata": {
        "colab": {
          "base_uri": "https://localhost:8080/"
        },
        "id": "NfxRz1Lvw3p8",
        "outputId": "c9bea41c-a90c-4ff4-cd2e-899a42c553e2"
      },
      "execution_count": 2,
      "outputs": [
        {
          "output_type": "stream",
          "name": "stdout",
          "text": [
            "Noorulain Uzair\n"
          ]
        }
      ]
    },
    {
      "cell_type": "code",
      "source": [
        "my_name : str = 'Abeeha' #Single code is not recomended as it is used as apostrophy s\n",
        "print(my_name)"
      ],
      "metadata": {
        "colab": {
          "base_uri": "https://localhost:8080/"
        },
        "id": "YNb4hnZrxGWa",
        "outputId": "e1f90e6a-f464-4244-820c-6e475a78efef"
      },
      "execution_count": 7,
      "outputs": [
        {
          "output_type": "stream",
          "name": "stdout",
          "text": [
            "Abeeha\n"
          ]
        }
      ]
    },
    {
      "cell_type": "markdown",
      "source": [
        "DRY = Dont repreat yourself (code like you should not code again and again)\n",
        "\n",
        "intellicense : mentioning errors or annotating that i cant find the mentioned variable."
      ],
      "metadata": {
        "id": "IbJ6-YfUxWgA"
      }
    },
    {
      "cell_type": "code",
      "source": [
        ""
      ],
      "metadata": {
        "id": "P3pDJJtS6JHA"
      },
      "execution_count": null,
      "outputs": []
    }
  ]
}