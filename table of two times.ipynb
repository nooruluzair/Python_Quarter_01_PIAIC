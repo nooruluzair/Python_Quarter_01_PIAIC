{
  "cells": [
    {
      "cell_type": "markdown",
      "metadata": {
        "id": "view-in-github",
        "colab_type": "text"
      },
      "source": [
        "<a href=\"https://colab.research.google.com/github/nooruluzair/Pyton-with-Colab/blob/main/table%20of%20two%20times.ipynb\" target=\"_parent\"><img src=\"https://colab.research.google.com/assets/colab-badge.svg\" alt=\"Open In Colab\"/></a>"
      ]
    },
    {
      "cell_type": "code",
      "execution_count": null,
      "metadata": {
        "colab": {
          "base_uri": "https://localhost:8080/"
        },
        "id": "gXzPr-sCxN8h",
        "outputId": "4a123fad-72d1-4a4a-9ec6-277c6ab31279"
      },
      "outputs": [
        {
          "name": "stdout",
          "output_type": "stream",
          "text": [
            "Multiplication Table of 2:\n",
            "2 x 1 = 2\n",
            "2 x 2 = 4\n",
            "2 x 3 = 6\n",
            "2 x 4 = 8\n",
            "2 x 5 = 10\n",
            "2 x 6 = 12\n",
            "2 x 7 = 14\n",
            "2 x 8 = 16\n",
            "2 x 9 = 18\n",
            "2 x 10 = 20\n"
          ]
        }
      ],
      "source": [
        "# prompt: write program for generating table of 2\n",
        "\n",
        "# Generate multiplication table of 2\n",
        "\n",
        "def generate_table(number, limit=10):\n",
        "  \"\"\"Generates the multiplication table for a given number up to a specified limit.\n",
        "\n",
        "  Args:\n",
        "    number: The number for which to generate the table.\n",
        "    limit: The upper limit for the multiplication table. Defaults to 10.\n",
        "\n",
        "  Returns:\n",
        "    None. Prints the multiplication table to the console.\n",
        "  \"\"\"\n",
        "\n",
        "  print(f\"Multiplication Table of {number}:\")\n",
        "  for i in range(1, limit + 1):\n",
        "    print(f\"{number} x {i} = {number * i}\")\n",
        "\n",
        "# Example usage\n",
        "generate_table(2)"
      ]
    },
    {
      "cell_type": "code",
      "source": [],
      "metadata": {
        "id": "HpyR4hmp74_5"
      },
      "execution_count": null,
      "outputs": []
    },
    {
      "cell_type": "code",
      "execution_count": null,
      "metadata": {
        "id": "AEqGFS77Ex8h"
      },
      "outputs": [],
      "source": []
    },
    {
      "cell_type": "code",
      "execution_count": null,
      "metadata": {
        "colab": {
          "background_save": true,
          "base_uri": "https://localhost:8080/"
        },
        "id": "g969OfSYzG82",
        "outputId": "df45533e-80b3-44d5-de8d-20648a0f74ac"
      },
      "outputs": [
        {
          "name": "stdout",
          "output_type": "stream",
          "text": [
            "\n",
            "Select operation:\n",
            "1. Add\n",
            "2. Subtract\n",
            "3. Multiply\n",
            "4. Divide\n",
            "5. Generate Multiplication Table\n",
            "6. Exit\n",
            "23.0 + 33.0 = 56.0\n",
            "\n",
            "Select operation:\n",
            "1. Add\n",
            "2. Subtract\n",
            "3. Multiply\n",
            "4. Divide\n",
            "5. Generate Multiplication Table\n",
            "6. Exit\n"
          ]
        }
      ],
      "source": [
        "# prompt: write a program for a mathematical calculator which can perform basic arithmetic functions\n",
        "\n",
        "# Generate multiplication table of 2\n",
        "\n",
        "def generate_table(number, limit=10):\n",
        "  \"\"\"Generates the multiplication table for a given number up to a specified limit.\n",
        "\n",
        "  Args:\n",
        "    number: The number for which to generate the table.\n",
        "    limit: The upper limit for the multiplication table. Defaults to 10.\n",
        "\n",
        "  Returns:\n",
        "    None. Prints the multiplication table to the console.\n",
        "  \"\"\"\n",
        "\n",
        "  print(f\"Multiplication Table of {number}:\")\n",
        "  for i in range(1, limit + 1):\n",
        "    print(f\"{number} x {i} = {number * i}\")\n",
        "\n",
        "def calculator():\n",
        "    \"\"\"Performs basic arithmetic operations.\"\"\"\n",
        "\n",
        "    while True:\n",
        "        print(\"\\nSelect operation:\")\n",
        "        print(\"1. Add\")\n",
        "        print(\"2. Subtract\")\n",
        "        print(\"3. Multiply\")\n",
        "        print(\"4. Divide\")\n",
        "        print(\"5. Generate Multiplication Table\")\n",
        "        print(\"6. Exit\")\n",
        "\n",
        "        choice = input(\"Enter choice(1/2/3/4/5/6): \")\n",
        "\n",
        "        if choice in ('1', '2', '3', '4'):\n",
        "            try:\n",
        "                num1 = float(input(\"Enter first number: \"))\n",
        "                num2 = float(input(\"Enter second number: \"))\n",
        "            except ValueError:\n",
        "                print(\"Invalid input. Please enter numbers only.\")\n",
        "                continue\n",
        "\n",
        "            if choice == '1':\n",
        "                print(num1, \"+\", num2, \"=\", num1 + num2)\n",
        "            elif choice == '2':\n",
        "                print(num1, \"-\", num2, \"=\", num1 - num2)\n",
        "            elif choice == '3':\n",
        "                print(num1, \"*\", num2, \"=\", num1 * num2)\n",
        "            elif choice == '4':\n",
        "                if num2 == 0:\n",
        "                    print(\"Division by zero error!\")\n",
        "                else:\n",
        "                    print(num1, \"/\", num2, \"=\", num1 / num2)\n",
        "\n",
        "        elif choice == '5':\n",
        "            try:\n",
        "                num = int(input(\"Enter a number for multiplication table: \"))\n",
        "                limit = int(input(\"Enter the upper limit for the table: \"))\n",
        "                generate_table(num,limit)\n",
        "            except ValueError:\n",
        "                print(\"Invalid input. Please enter numbers only\")\n",
        "\n",
        "        elif choice == '6':\n",
        "            break\n",
        "        else:\n",
        "            print(\"Invalid Input\")\n",
        "\n",
        "# Example usage\n",
        "calculator()"
      ]
    }
  ],
  "metadata": {
    "colab": {
      "provenance": [],
      "authorship_tag": "ABX9TyMmIIZPNMAndXpXqg/8gvID",
      "include_colab_link": true
    },
    "kernelspec": {
      "display_name": "Python 3",
      "name": "python3"
    },
    "language_info": {
      "name": "python"
    }
  },
  "nbformat": 4,
  "nbformat_minor": 0
}